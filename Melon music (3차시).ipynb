{
 "cells": [
  {
   "cell_type": "code",
   "execution_count": 4,
   "id": "800aa3bd",
   "metadata": {},
   "outputs": [
    {
     "name": "stdout",
     "output_type": "stream",
     "text": [
      "Requirement already satisfied: selenium in c:\\users\\hatty\\anaconda3\\lib\\site-packages (4.1.0)\n",
      "Requirement already satisfied: trio-websocket~=0.9 in c:\\users\\hatty\\anaconda3\\lib\\site-packages (from selenium) (0.9.2)\n",
      "Requirement already satisfied: urllib3[secure]~=1.26 in c:\\users\\hatty\\anaconda3\\lib\\site-packages (from selenium) (1.26.7)\n",
      "Requirement already satisfied: trio~=0.17 in c:\\users\\hatty\\anaconda3\\lib\\site-packages (from selenium) (0.19.0)\n",
      "Requirement already satisfied: cffi>=1.14 in c:\\users\\hatty\\anaconda3\\lib\\site-packages (from trio~=0.17->selenium) (1.14.6)\n",
      "Requirement already satisfied: async-generator>=1.9 in c:\\users\\hatty\\anaconda3\\lib\\site-packages (from trio~=0.17->selenium) (1.10)\n",
      "Requirement already satisfied: sniffio in c:\\users\\hatty\\anaconda3\\lib\\site-packages (from trio~=0.17->selenium) (1.2.0)\n",
      "Requirement already satisfied: outcome in c:\\users\\hatty\\anaconda3\\lib\\site-packages (from trio~=0.17->selenium) (1.1.0)\n",
      "Requirement already satisfied: sortedcontainers in c:\\users\\hatty\\anaconda3\\lib\\site-packages (from trio~=0.17->selenium) (2.4.0)\n",
      "Requirement already satisfied: idna in c:\\users\\hatty\\anaconda3\\lib\\site-packages (from trio~=0.17->selenium) (3.2)\n",
      "Requirement already satisfied: attrs>=19.2.0 in c:\\users\\hatty\\anaconda3\\lib\\site-packages (from trio~=0.17->selenium) (21.2.0)\n",
      "Requirement already satisfied: pycparser in c:\\users\\hatty\\anaconda3\\lib\\site-packages (from cffi>=1.14->trio~=0.17->selenium) (2.20)\n",
      "Requirement already satisfied: wsproto>=0.14 in c:\\users\\hatty\\anaconda3\\lib\\site-packages (from trio-websocket~=0.9->selenium) (1.0.0)\n",
      "Requirement already satisfied: pyOpenSSL>=0.14 in c:\\users\\hatty\\anaconda3\\lib\\site-packages (from urllib3[secure]~=1.26->selenium) (21.0.0)\n",
      "Requirement already satisfied: cryptography>=1.3.4 in c:\\users\\hatty\\anaconda3\\lib\\site-packages (from urllib3[secure]~=1.26->selenium) (3.4.8)\n",
      "Requirement already satisfied: certifi in c:\\users\\hatty\\anaconda3\\lib\\site-packages (from urllib3[secure]~=1.26->selenium) (2021.10.8)\n",
      "Requirement already satisfied: six>=1.5.2 in c:\\users\\hatty\\anaconda3\\lib\\site-packages (from pyOpenSSL>=0.14->urllib3[secure]~=1.26->selenium) (1.16.0)\n",
      "Requirement already satisfied: h11<1,>=0.9.0 in c:\\users\\hatty\\anaconda3\\lib\\site-packages (from wsproto>=0.14->trio-websocket~=0.9->selenium) (0.12.0)\n"
     ]
    }
   ],
   "source": [
    "import requests #인터넷 웹 연결\n",
    "from bs4 import BeautifulSoup as bs #분석하기 쉽게 정리\n",
    "\n",
    "#requests를 사용하지 못하게 막아놓은 사이트에서는\n",
    "#크롬 브라우저의 데이터를 읽어오는 방법을 쓰자\n",
    "!pip3 install selenium \n",
    "from selenium import webdriver #파이썬으로 브라우저 컨트롤"
   ]
  },
  {
   "cell_type": "code",
   "execution_count": 5,
   "id": "f71b2566",
   "metadata": {},
   "outputs": [
    {
     "name": "stderr",
     "output_type": "stream",
     "text": [
      "C:\\Users\\hatty\\AppData\\Local\\Temp/ipykernel_22360/953312471.py:1: DeprecationWarning: executable_path has been deprecated, please pass in a Service object\n",
      "  driver = webdriver.Chrome('chromedriver.exe')\n"
     ]
    }
   ],
   "source": [
    "driver = webdriver.Chrome('chromedriver.exe') #크롬 컨트롤을 위한 드라이버 연결\n",
    "url=\"http://www.melon.com/chart/index.htm\"\n",
    "driver.get(url)\n",
    "html= driver.page_source\n",
    "soup=bs(html)"
   ]
  },
  {
   "cell_type": "code",
   "execution_count": 11,
   "id": "97b56a5a",
   "metadata": {},
   "outputs": [
    {
     "data": {
      "text/plain": [
       "50"
      ]
     },
     "execution_count": 11,
     "metadata": {},
     "output_type": "execute_result"
    }
   ],
   "source": [
    "songs = soup.select('tr.lst50')\n",
    "len(songs)\n",
    "songs"
   ]
  },
  {
   "cell_type": "code",
   "execution_count": 17,
   "id": "b63b1268",
   "metadata": {},
   "outputs": [
    {
     "data": {
      "text/plain": [
       "<tr class=\"lst50\" data-song-no=\"34431086\" id=\"lst50\">\n",
       "<td><div class=\"wrap t_right\"><input class=\"input_check\" name=\"input_check\" title=\"취중고백 곡 선택\" type=\"checkbox\" value=\"34431086\"/></div></td>\n",
       "<td><div class=\"wrap t_center\"><span class=\"rank\">1</span><span class=\"none\">위</span></div></td>\n",
       "<!-- 차트순위 추가 -->\n",
       "<td><div class=\"wrap\">\n",
       "<span class=\"rank_wrap\" title=\"순위 동일\">\n",
       "<span class=\"bullet_icons rank_static\"><span class=\"none\">순위 동일</span></span>\n",
       "<span class=\"none\">0</span>\n",
       "</span>\n",
       "</div></td>\n",
       "<td><div class=\"wrap\">\n",
       "<a class=\"image_typeAll\" href=\"javascript:melon.link.goAlbumDetail('10816959');\" title=\"취중고백\">\n",
       "<img alt=\"취중고백 - 페이지 이동\" height=\"60\" onerror=\"WEBPOCIMG.defaultAlbumImg(this);\" src=\"https://cdnimg.melon.co.kr/cm2/album/images/108/16/959/10816959_20211217144957_500.jpg/melon/resize/120/quality/80/optimize\" width=\"60\"/>\n",
       "<span class=\"bg_album_frame\"></span>\n",
       "</a>\n",
       "</div></td>\n",
       "<td><div class=\"wrap\">\n",
       "<a class=\"btn button_icons type03 song_info\" href=\"javascript:melon.link.goSongDetail('34431086');\" title=\"취중고백 곡정보\"><span class=\"none\">곡정보</span></a>\n",
       "</div></td>\n",
       "<td><div class=\"wrap\">\n",
       "<div class=\"wrap_song_info\">\n",
       "<div class=\"ellipsis rank01\"><span>\n",
       "<a href=\"javascript:melon.play.playSong('1000002721',34431086);\" title=\"취중고백 재생\">취중고백</a>\n",
       "</span></div><br/>\n",
       "<div class=\"ellipsis rank02\">\n",
       "<a href=\"javascript:melon.link.goArtistDetail('839736');\" title=\"김민석 (멜로망스) - 페이지 이동\">김민석 (멜로망스)</a><span class=\"checkEllipsis\" style=\"display: none;\"><a href=\"javascript:melon.link.goArtistDetail('839736');\" title=\"김민석 (멜로망스) - 페이지 이동\">김민석 (멜로망스)</a></span>\n",
       "</div>\n",
       "</div>\n",
       "</div></td>\n",
       "<td><div class=\"wrap\">\n",
       "<div class=\"wrap_song_info\">\n",
       "<div class=\"ellipsis rank03\">\n",
       "<a href=\"javascript:melon.link.goAlbumDetail('10816959');\" title=\"취중고백 - 페이지 이동\">취중고백</a>\n",
       "</div>\n",
       "</div>\n",
       "</div></td>\n",
       "<td><div class=\"wrap\">\n",
       "<button class=\"button_etc like\" data-song-menuid=\"1000002721\" data-song-no=\"34431086\" title=\"취중고백 좋아요\" type=\"button\"><span class=\"odd_span\">좋아요</span>\n",
       "<span class=\"cnt\">\n",
       "<span class=\"none\">총건수</span>\n",
       "47,712</span></button>\n",
       "</div></td>\n",
       "<td><div class=\"wrap t_center\">\n",
       "<button class=\"button_icons play\" onclick=\"melon.play.playSong('1000002721',34431086);\" title=\"듣기\" type=\"button\"><span class=\"none\">듣기</span></button>\n",
       "</div></td>\n",
       "<td><div class=\"wrap t_center\">\n",
       "<button class=\"button_icons scrap\" onclick=\"melon.play.addPlayList('34431086');\" title=\"담기\" type=\"button\"><span class=\"none\">담기</span></button>\n",
       "</div></td>\n",
       "<td><div class=\"wrap t_center\">\n",
       "<button class=\"button_icons download\" onclick=\"melon.buy.goBuyProduct('frm', '34431086', '3C0001', '','0', '1000002721');\" title=\"다운로드\" type=\"button\"><span class=\"none\">다운로드</span></button>\n",
       "</div></td>\n",
       "<td><div class=\"wrap t_center\">\n",
       "<button class=\"button_icons video disabled\" disabled=\"disabled\" onclick=\"melon.link.goMvDetail('1000002721', '34431086','song');\" title=\"뮤직비디오\" type=\"button\"><span class=\"none\">뮤직비디오</span></button>\n",
       "</div></td>\n",
       "</tr>"
      ]
     },
     "execution_count": 17,
     "metadata": {},
     "output_type": "execute_result"
    }
   ],
   "source": [
    "song = songs[0]\n",
    "song"
   ]
  },
  {
   "cell_type": "code",
   "execution_count": 14,
   "id": "1246e22e",
   "metadata": {},
   "outputs": [
    {
     "data": {
      "text/plain": [
       "[<a href=\"javascript:melon.play.playSong('1000002721',34431086);\" title=\"취중고백 재생\">취중고백</a>,\n",
       " <a href=\"javascript:melon.link.goArtistDetail('839736');\" title=\"김민석 (멜로망스) - 페이지 이동\">김민석 (멜로망스)</a>]"
      ]
     },
     "execution_count": 14,
     "metadata": {},
     "output_type": "execute_result"
    }
   ],
   "source": [
    "song.select('span > a')"
   ]
  },
  {
   "cell_type": "code",
   "execution_count": 15,
   "id": "48548f9b",
   "metadata": {},
   "outputs": [
    {
     "data": {
      "text/plain": [
       "'취중고백'"
      ]
     },
     "execution_count": 15,
     "metadata": {},
     "output_type": "execute_result"
    }
   ],
   "source": [
    "song.select('span > a')[0].text"
   ]
  },
  {
   "cell_type": "code",
   "execution_count": 16,
   "id": "892935a5",
   "metadata": {},
   "outputs": [
    {
     "data": {
      "text/plain": [
       "'김민석 (멜로망스)'"
      ]
     },
     "execution_count": 16,
     "metadata": {},
     "output_type": "execute_result"
    }
   ],
   "source": [
    "song.select('span > a')[1].text"
   ]
  },
  {
   "cell_type": "code",
   "execution_count": 20,
   "id": "07d84a41",
   "metadata": {},
   "outputs": [
    {
     "data": {
      "text/plain": [
       "[['melon', 1, '취중고백', '김민석 (멜로망스)'],\n",
       " ['melon', 2, '사랑은 늘 도망가', '임영웅'],\n",
       " ['melon', 3, '회전목마 (Feat. Zion.T, 원슈타인) (Prod. Slom)', 'sokodomo'],\n",
       " ['melon', 4, 'ELEVEN', 'IVE (아이브)'],\n",
       " ['melon', 5, 'Counting Stars (Feat. Beenzino)', \"BE'O (비오)\"],\n",
       " ['melon', 6, '리무진 (Feat. MINO) (Prod. GRAY)', \"BE'O (비오)\"],\n",
       " ['melon', 7, '겨울잠', '아이유'],\n",
       " ['melon', 8, 'Dreams Come True', 'aespa'],\n",
       " ['melon', 9, \"Can't Control Myself\", '태연 (TAEYEON)'],\n",
       " ['melon', 10, '눈이 오잖아(Feat.헤이즈)', '이무진'],\n",
       " ['melon', 11, 'Step Back', 'GOT the beat'],\n",
       " ['melon', 12, '다정히 내 이름을 부르면', '경서예지'],\n",
       " ['melon',\n",
       "  13,\n",
       "  '만남은 쉽고 이별은 어려워 (Feat. Leellamarz) (Prod. TOIL)',\n",
       "  '베이식 (Basick)'],\n",
       " ['melon', 14, 'strawberry moon', '아이유'],\n",
       " ['melon', 15, '신호등', '이무진'],\n",
       " ['melon', 16, '드라마', '아이유'],\n",
       " ['melon', 17, 'STAY', 'The Kid LAROI'],\n",
       " ['melon', 18, 'Savage', 'aespa'],\n",
       " ['melon', 19, 'Christmas Tree', 'V'],\n",
       " ['melon', 20, 'Next Level', 'aespa'],\n",
       " ['melon', 21, '흰눈', '먼데이 키즈 (Monday Kiz)'],\n",
       " ['melon', 22, '이제 나만 믿어요', '임영웅'],\n",
       " ['melon', 23, '불협화음 (Feat. AKMU) (Prod. GRAY)', 'Mudd the student'],\n",
       " ['melon', 24, '우리가 헤어져야 했던 이유', '비비 (BIBI)'],\n",
       " ['melon', 25, '너를 생각해', '주시크 (Joosiq)'],\n",
       " ['melon', 26, '네가 없는 밤 (Feat. ASH ISLAND) (Prod. GRAY)', \"BE'O (비오)\"],\n",
       " ['melon', 27, '쉬어 (Feat. MINO) (Prod. GRAY)', '아넌딜라이트(Anandelight)'],\n",
       " ['melon', 28, '서랍', '10CM'],\n",
       " ['melon', 29, 'OHAYO MY NIGHT', '디핵 (D-Hack)'],\n",
       " ['melon', 30, 'Butter', '방탄소년단'],\n",
       " ['melon', 31, '언덕나무', '이승윤'],\n",
       " ['melon', 32, '그대라는 사치', '임영웅'],\n",
       " ['melon', 33, '다시 사랑한다면 (김필 Ver.)', '임영웅'],\n",
       " ['melon', 34, 'Wake Up (Prod. 코드 쿤스트)', '개코'],\n",
       " ['melon', 35, '문득', \"BE'O (비오)\"],\n",
       " ['melon', 36, '이별후회', '김나영'],\n",
       " ['melon', 37, '바라만 본다', 'MSG워너비(M.O.M)'],\n",
       " ['melon', 38, 'Permission to Dance', '방탄소년단'],\n",
       " ['melon', 39, '낙하 (with 아이유)', 'AKMU (악뮤)'],\n",
       " ['melon', 40, '별빛 같은 나의 사랑아', '임영웅'],\n",
       " ['melon', 41, 'Dynamite', '방탄소년단'],\n",
       " ['melon', 42, '잊었니', '임영웅'],\n",
       " ['melon', 43, 'My Universe', 'Coldplay'],\n",
       " ['melon', 44, 'HERO', '임영웅'],\n",
       " ['melon', 45, '그게 더 편할 것 같아 (N번째 연애 X 멜로망스)', '멜로망스'],\n",
       " ['melon', 46, 'Weekend', '태연 (TAEYEON)'],\n",
       " ['melon', 47, '사랑이 아니었다고 말하지 마요', '이예준'],\n",
       " ['melon', 48, 'Celebrity', '아이유'],\n",
       " ['melon', 49, '끝사랑', '임영웅'],\n",
       " ['melon', 50, '헤픈 우연', '헤이즈 (Heize)']]"
      ]
     },
     "execution_count": 20,
     "metadata": {},
     "output_type": "execute_result"
    }
   ],
   "source": [
    "song_data_1=[]\n",
    "rank=1\n",
    "\n",
    "for song in songs:\n",
    "    title= song.select('span > a')[0].text\n",
    "    artist=song.select('span > a')[1].text\n",
    "    song_data_1.append(['melon', rank, title, artist])\n",
    "    rank+=1\n",
    "    \n",
    "song_data_1"
   ]
  },
  {
   "cell_type": "code",
   "execution_count": 21,
   "id": "ce4b3bfe",
   "metadata": {},
   "outputs": [
    {
     "data": {
      "text/plain": [
       "'임영웅'"
      ]
     },
     "execution_count": 21,
     "metadata": {},
     "output_type": "execute_result"
    }
   ],
   "source": [
    "songs = soup.select('tr.lst100')\n",
    "len(songs)\n",
    "song = songs[0]\n",
    "song.select('span > a')[0].text\n",
    "song.select('span > a')[1].text"
   ]
  },
  {
   "cell_type": "code",
   "execution_count": 23,
   "id": "c8d5b9f3",
   "metadata": {},
   "outputs": [
    {
     "data": {
      "text/plain": [
       "[['melon', 51, 'Bk Love', '임영웅'],\n",
       " ['melon', 52, '라일락', '아이유'],\n",
       " ['melon', 53, '안녕 우린 헤어져야만 해', '전상근'],\n",
       " ['melon', 54, '밤하늘의 별을(2020)', '경서'],\n",
       " ['melon', 55, 'Bad Habits', 'Ed Sheeran'],\n",
       " ['melon', 56, '정거장', '아이유'],\n",
       " ['melon', 57, 'Still I Love You', '토요태'],\n",
       " ['melon', 58, '찰나가 영원이 될 때 (The Eternal Moment)', '마크툽 (MAKTUB)'],\n",
       " ['melon', 59, '사이렌 Remix (Feat. UNEDUCATED KID, Paul Blanco)', '호미들'],\n",
       " ['melon', 60, '고백', '멜로망스'],\n",
       " ['melon', 61, '어떻게 이별까지 사랑하겠어, 널 사랑하는 거지', 'AKMU (악뮤)'],\n",
       " ['melon', 62, '내 손을 잡아', '아이유'],\n",
       " ['melon', 63, '모든 날, 모든 순간 (Every day, Every Moment)', '폴킴'],\n",
       " ['melon', 64, '여름비', '샘김 (Sam Kim)'],\n",
       " ['melon', 65, '호랑수월가', '탑현'],\n",
       " ['melon', 66, \"롤린 (Rollin')\", '브레이브걸스'],\n",
       " ['melon', 67, '추억은 만남보다 이별에 남아', '정동하'],\n",
       " ['melon', 68, '러브레터', '아이유'],\n",
       " ['melon', 69, 'Off My Face', 'Justin Bieber'],\n",
       " ['melon', 70, '밝게 빛나는 별이 되어 비춰줄게', '송이한'],\n",
       " ['melon', 71, 'Dun Dun Dance', '오마이걸 (OH MY GIRL)'],\n",
       " ['melon', 72, 'MBTI (Feat. 쿠기 & 로꼬) (Prod. GRAY)', \"BE'O (비오)\"],\n",
       " ['melon', 73, 'abcdefu', 'Gayle'],\n",
       " ['melon', 74, '시간을 거슬러 (낮에 뜨는 달 X 케이윌)', '케이윌'],\n",
       " ['melon', 75, 'Blueming', '아이유'],\n",
       " ['melon', 76, '오늘도 빛나는 너에게 (To You My Light) (Feat.이라온)', '마크툽 (MAKTUB)'],\n",
       " ['melon', 77, '계단말고 엘리베이터', '임영웅'],\n",
       " ['melon', 78, '봄날', '방탄소년단'],\n",
       " ['melon', 79, '눈이 오던 날 (Feat. SOLE)', '기리보이'],\n",
       " ['melon', 80, '비가 오는 날엔 (2021)', '헤이즈 (Heize)'],\n",
       " ['melon', 81, '너의 모든 순간', '성시경'],\n",
       " ['melon', 82, '작은 것들을 위한 시 (Boy With Luv) (Feat. Halsey)', '방탄소년단'],\n",
       " ['melon', 83, '그날에 나는 맘이 편했을까', '이예준'],\n",
       " ['melon', 84, '취기를 빌려 (취향저격 그녀 X 산들)', '산들'],\n",
       " ['melon', 85, '너', '아이유'],\n",
       " ['melon', 86, '좋아좋아', '조정석'],\n",
       " ['melon', 87, 'Queendom', 'Red Velvet (레드벨벳)'],\n",
       " ['melon', 88, '멜로디', 'ASH ISLAND'],\n",
       " ['melon', 89, 'DUMB DUMB', '전소미'],\n",
       " ['melon', 90, '죽을 만큼 아파서 (Feat. JAMIE (제이미))', 'MC몽'],\n",
       " ['melon', 91, 'Savage Love (Laxed - Siren Beat) (BTS Remix)', 'Jawsh 685'],\n",
       " ['melon', 92, 'Snowman', 'Sia'],\n",
       " ['melon', 93, '나 그댈위해 시 한편을 쓰겠어', '케이시 (Kassy)'],\n",
       " ['melon', 94, 'ASAP', 'STAYC(스테이씨)'],\n",
       " ['melon', 95, '오묘해', '휘인 (Whee In)'],\n",
       " ['melon', 96, '매일 크리스마스 (Everyday Christmas)', '다비치'],\n",
       " ['melon', 97, '비와 당신', '이무진'],\n",
       " ['melon', 98, 'Life Goes On', '방탄소년단'],\n",
       " ['melon', 99, '호우주의 (Feat. 개코, 넉살 (Nucksal)) (Prod. 코드 쿤스트)', '조광일'],\n",
       " ['melon', 100, '탕!♡', 'MINO (송민호)']]"
      ]
     },
     "execution_count": 23,
     "metadata": {},
     "output_type": "execute_result"
    }
   ],
   "source": [
    "song_data_2=[]\n",
    "rank=51\n",
    "\n",
    "for song in songs:\n",
    "    title= song.select('span > a')[0].text\n",
    "    artist=song.select('span > a')[1].text\n",
    "    song_data_2.append(['melon', rank, title, artist])\n",
    "    rank+=1\n",
    "    \n",
    "song_data_2"
   ]
  },
  {
   "cell_type": "code",
   "execution_count": 24,
   "id": "b9feed38",
   "metadata": {},
   "outputs": [
    {
     "data": {
      "text/plain": [
       "[['melon', 1, '취중고백', '김민석 (멜로망스)'],\n",
       " ['melon', 2, '사랑은 늘 도망가', '임영웅'],\n",
       " ['melon', 3, '회전목마 (Feat. Zion.T, 원슈타인) (Prod. Slom)', 'sokodomo'],\n",
       " ['melon', 4, 'ELEVEN', 'IVE (아이브)'],\n",
       " ['melon', 5, 'Counting Stars (Feat. Beenzino)', \"BE'O (비오)\"],\n",
       " ['melon', 6, '리무진 (Feat. MINO) (Prod. GRAY)', \"BE'O (비오)\"],\n",
       " ['melon', 7, '겨울잠', '아이유'],\n",
       " ['melon', 8, 'Dreams Come True', 'aespa'],\n",
       " ['melon', 9, \"Can't Control Myself\", '태연 (TAEYEON)'],\n",
       " ['melon', 10, '눈이 오잖아(Feat.헤이즈)', '이무진'],\n",
       " ['melon', 11, 'Step Back', 'GOT the beat'],\n",
       " ['melon', 12, '다정히 내 이름을 부르면', '경서예지'],\n",
       " ['melon',\n",
       "  13,\n",
       "  '만남은 쉽고 이별은 어려워 (Feat. Leellamarz) (Prod. TOIL)',\n",
       "  '베이식 (Basick)'],\n",
       " ['melon', 14, 'strawberry moon', '아이유'],\n",
       " ['melon', 15, '신호등', '이무진'],\n",
       " ['melon', 16, '드라마', '아이유'],\n",
       " ['melon', 17, 'STAY', 'The Kid LAROI'],\n",
       " ['melon', 18, 'Savage', 'aespa'],\n",
       " ['melon', 19, 'Christmas Tree', 'V'],\n",
       " ['melon', 20, 'Next Level', 'aespa'],\n",
       " ['melon', 21, '흰눈', '먼데이 키즈 (Monday Kiz)'],\n",
       " ['melon', 22, '이제 나만 믿어요', '임영웅'],\n",
       " ['melon', 23, '불협화음 (Feat. AKMU) (Prod. GRAY)', 'Mudd the student'],\n",
       " ['melon', 24, '우리가 헤어져야 했던 이유', '비비 (BIBI)'],\n",
       " ['melon', 25, '너를 생각해', '주시크 (Joosiq)'],\n",
       " ['melon', 26, '네가 없는 밤 (Feat. ASH ISLAND) (Prod. GRAY)', \"BE'O (비오)\"],\n",
       " ['melon', 27, '쉬어 (Feat. MINO) (Prod. GRAY)', '아넌딜라이트(Anandelight)'],\n",
       " ['melon', 28, '서랍', '10CM'],\n",
       " ['melon', 29, 'OHAYO MY NIGHT', '디핵 (D-Hack)'],\n",
       " ['melon', 30, 'Butter', '방탄소년단'],\n",
       " ['melon', 31, '언덕나무', '이승윤'],\n",
       " ['melon', 32, '그대라는 사치', '임영웅'],\n",
       " ['melon', 33, '다시 사랑한다면 (김필 Ver.)', '임영웅'],\n",
       " ['melon', 34, 'Wake Up (Prod. 코드 쿤스트)', '개코'],\n",
       " ['melon', 35, '문득', \"BE'O (비오)\"],\n",
       " ['melon', 36, '이별후회', '김나영'],\n",
       " ['melon', 37, '바라만 본다', 'MSG워너비(M.O.M)'],\n",
       " ['melon', 38, 'Permission to Dance', '방탄소년단'],\n",
       " ['melon', 39, '낙하 (with 아이유)', 'AKMU (악뮤)'],\n",
       " ['melon', 40, '별빛 같은 나의 사랑아', '임영웅'],\n",
       " ['melon', 41, 'Dynamite', '방탄소년단'],\n",
       " ['melon', 42, '잊었니', '임영웅'],\n",
       " ['melon', 43, 'My Universe', 'Coldplay'],\n",
       " ['melon', 44, 'HERO', '임영웅'],\n",
       " ['melon', 45, '그게 더 편할 것 같아 (N번째 연애 X 멜로망스)', '멜로망스'],\n",
       " ['melon', 46, 'Weekend', '태연 (TAEYEON)'],\n",
       " ['melon', 47, '사랑이 아니었다고 말하지 마요', '이예준'],\n",
       " ['melon', 48, 'Celebrity', '아이유'],\n",
       " ['melon', 49, '끝사랑', '임영웅'],\n",
       " ['melon', 50, '헤픈 우연', '헤이즈 (Heize)'],\n",
       " ['melon', 51, 'Bk Love', '임영웅'],\n",
       " ['melon', 52, '라일락', '아이유'],\n",
       " ['melon', 53, '안녕 우린 헤어져야만 해', '전상근'],\n",
       " ['melon', 54, '밤하늘의 별을(2020)', '경서'],\n",
       " ['melon', 55, 'Bad Habits', 'Ed Sheeran'],\n",
       " ['melon', 56, '정거장', '아이유'],\n",
       " ['melon', 57, 'Still I Love You', '토요태'],\n",
       " ['melon', 58, '찰나가 영원이 될 때 (The Eternal Moment)', '마크툽 (MAKTUB)'],\n",
       " ['melon', 59, '사이렌 Remix (Feat. UNEDUCATED KID, Paul Blanco)', '호미들'],\n",
       " ['melon', 60, '고백', '멜로망스'],\n",
       " ['melon', 61, '어떻게 이별까지 사랑하겠어, 널 사랑하는 거지', 'AKMU (악뮤)'],\n",
       " ['melon', 62, '내 손을 잡아', '아이유'],\n",
       " ['melon', 63, '모든 날, 모든 순간 (Every day, Every Moment)', '폴킴'],\n",
       " ['melon', 64, '여름비', '샘김 (Sam Kim)'],\n",
       " ['melon', 65, '호랑수월가', '탑현'],\n",
       " ['melon', 66, \"롤린 (Rollin')\", '브레이브걸스'],\n",
       " ['melon', 67, '추억은 만남보다 이별에 남아', '정동하'],\n",
       " ['melon', 68, '러브레터', '아이유'],\n",
       " ['melon', 69, 'Off My Face', 'Justin Bieber'],\n",
       " ['melon', 70, '밝게 빛나는 별이 되어 비춰줄게', '송이한'],\n",
       " ['melon', 71, 'Dun Dun Dance', '오마이걸 (OH MY GIRL)'],\n",
       " ['melon', 72, 'MBTI (Feat. 쿠기 & 로꼬) (Prod. GRAY)', \"BE'O (비오)\"],\n",
       " ['melon', 73, 'abcdefu', 'Gayle'],\n",
       " ['melon', 74, '시간을 거슬러 (낮에 뜨는 달 X 케이윌)', '케이윌'],\n",
       " ['melon', 75, 'Blueming', '아이유'],\n",
       " ['melon', 76, '오늘도 빛나는 너에게 (To You My Light) (Feat.이라온)', '마크툽 (MAKTUB)'],\n",
       " ['melon', 77, '계단말고 엘리베이터', '임영웅'],\n",
       " ['melon', 78, '봄날', '방탄소년단'],\n",
       " ['melon', 79, '눈이 오던 날 (Feat. SOLE)', '기리보이'],\n",
       " ['melon', 80, '비가 오는 날엔 (2021)', '헤이즈 (Heize)'],\n",
       " ['melon', 81, '너의 모든 순간', '성시경'],\n",
       " ['melon', 82, '작은 것들을 위한 시 (Boy With Luv) (Feat. Halsey)', '방탄소년단'],\n",
       " ['melon', 83, '그날에 나는 맘이 편했을까', '이예준'],\n",
       " ['melon', 84, '취기를 빌려 (취향저격 그녀 X 산들)', '산들'],\n",
       " ['melon', 85, '너', '아이유'],\n",
       " ['melon', 86, '좋아좋아', '조정석'],\n",
       " ['melon', 87, 'Queendom', 'Red Velvet (레드벨벳)'],\n",
       " ['melon', 88, '멜로디', 'ASH ISLAND'],\n",
       " ['melon', 89, 'DUMB DUMB', '전소미'],\n",
       " ['melon', 90, '죽을 만큼 아파서 (Feat. JAMIE (제이미))', 'MC몽'],\n",
       " ['melon', 91, 'Savage Love (Laxed - Siren Beat) (BTS Remix)', 'Jawsh 685'],\n",
       " ['melon', 92, 'Snowman', 'Sia'],\n",
       " ['melon', 93, '나 그댈위해 시 한편을 쓰겠어', '케이시 (Kassy)'],\n",
       " ['melon', 94, 'ASAP', 'STAYC(스테이씨)'],\n",
       " ['melon', 95, '오묘해', '휘인 (Whee In)'],\n",
       " ['melon', 96, '매일 크리스마스 (Everyday Christmas)', '다비치'],\n",
       " ['melon', 97, '비와 당신', '이무진'],\n",
       " ['melon', 98, 'Life Goes On', '방탄소년단'],\n",
       " ['melon', 99, '호우주의 (Feat. 개코, 넉살 (Nucksal)) (Prod. 코드 쿤스트)', '조광일'],\n",
       " ['melon', 100, '탕!♡', 'MINO (송민호)']]"
      ]
     },
     "execution_count": 24,
     "metadata": {},
     "output_type": "execute_result"
    }
   ],
   "source": [
    "list= song_data_1+song_data_2\n",
    "list"
   ]
  },
  {
   "cell_type": "code",
   "execution_count": 26,
   "id": "72f60941",
   "metadata": {},
   "outputs": [
    {
     "data": {
      "text/html": [
       "<div>\n",
       "<style scoped>\n",
       "    .dataframe tbody tr th:only-of-type {\n",
       "        vertical-align: middle;\n",
       "    }\n",
       "\n",
       "    .dataframe tbody tr th {\n",
       "        vertical-align: top;\n",
       "    }\n",
       "\n",
       "    .dataframe thead th {\n",
       "        text-align: right;\n",
       "    }\n",
       "</style>\n",
       "<table border=\"1\" class=\"dataframe\">\n",
       "  <thead>\n",
       "    <tr style=\"text-align: right;\">\n",
       "      <th></th>\n",
       "      <th>음원사이트</th>\n",
       "      <th>순위</th>\n",
       "      <th>제목</th>\n",
       "      <th>가수</th>\n",
       "    </tr>\n",
       "  </thead>\n",
       "  <tbody>\n",
       "    <tr>\n",
       "      <th>0</th>\n",
       "      <td>melon</td>\n",
       "      <td>1</td>\n",
       "      <td>취중고백</td>\n",
       "      <td>김민석 (멜로망스)</td>\n",
       "    </tr>\n",
       "    <tr>\n",
       "      <th>1</th>\n",
       "      <td>melon</td>\n",
       "      <td>2</td>\n",
       "      <td>사랑은 늘 도망가</td>\n",
       "      <td>임영웅</td>\n",
       "    </tr>\n",
       "    <tr>\n",
       "      <th>2</th>\n",
       "      <td>melon</td>\n",
       "      <td>3</td>\n",
       "      <td>회전목마 (Feat. Zion.T, 원슈타인) (Prod. Slom)</td>\n",
       "      <td>sokodomo</td>\n",
       "    </tr>\n",
       "    <tr>\n",
       "      <th>3</th>\n",
       "      <td>melon</td>\n",
       "      <td>4</td>\n",
       "      <td>ELEVEN</td>\n",
       "      <td>IVE (아이브)</td>\n",
       "    </tr>\n",
       "    <tr>\n",
       "      <th>4</th>\n",
       "      <td>melon</td>\n",
       "      <td>5</td>\n",
       "      <td>Counting Stars (Feat. Beenzino)</td>\n",
       "      <td>BE'O (비오)</td>\n",
       "    </tr>\n",
       "    <tr>\n",
       "      <th>...</th>\n",
       "      <td>...</td>\n",
       "      <td>...</td>\n",
       "      <td>...</td>\n",
       "      <td>...</td>\n",
       "    </tr>\n",
       "    <tr>\n",
       "      <th>95</th>\n",
       "      <td>melon</td>\n",
       "      <td>96</td>\n",
       "      <td>매일 크리스마스 (Everyday Christmas)</td>\n",
       "      <td>다비치</td>\n",
       "    </tr>\n",
       "    <tr>\n",
       "      <th>96</th>\n",
       "      <td>melon</td>\n",
       "      <td>97</td>\n",
       "      <td>비와 당신</td>\n",
       "      <td>이무진</td>\n",
       "    </tr>\n",
       "    <tr>\n",
       "      <th>97</th>\n",
       "      <td>melon</td>\n",
       "      <td>98</td>\n",
       "      <td>Life Goes On</td>\n",
       "      <td>방탄소년단</td>\n",
       "    </tr>\n",
       "    <tr>\n",
       "      <th>98</th>\n",
       "      <td>melon</td>\n",
       "      <td>99</td>\n",
       "      <td>호우주의 (Feat. 개코, 넉살 (Nucksal)) (Prod. 코드 쿤스트)</td>\n",
       "      <td>조광일</td>\n",
       "    </tr>\n",
       "    <tr>\n",
       "      <th>99</th>\n",
       "      <td>melon</td>\n",
       "      <td>100</td>\n",
       "      <td>탕!♡</td>\n",
       "      <td>MINO (송민호)</td>\n",
       "    </tr>\n",
       "  </tbody>\n",
       "</table>\n",
       "<p>100 rows × 4 columns</p>\n",
       "</div>"
      ],
      "text/plain": [
       "    음원사이트   순위                                            제목          가수\n",
       "0   melon    1                                          취중고백  김민석 (멜로망스)\n",
       "1   melon    2                                     사랑은 늘 도망가         임영웅\n",
       "2   melon    3        회전목마 (Feat. Zion.T, 원슈타인) (Prod. Slom)    sokodomo\n",
       "3   melon    4                                        ELEVEN   IVE (아이브)\n",
       "4   melon    5               Counting Stars (Feat. Beenzino)   BE'O (비오)\n",
       "..    ...  ...                                           ...         ...\n",
       "95  melon   96                 매일 크리스마스 (Everyday Christmas)         다비치\n",
       "96  melon   97                                         비와 당신         이무진\n",
       "97  melon   98                                  Life Goes On       방탄소년단\n",
       "98  melon   99  호우주의 (Feat. 개코, 넉살 (Nucksal)) (Prod. 코드 쿤스트)         조광일\n",
       "99  melon  100                                           탕!♡  MINO (송민호)\n",
       "\n",
       "[100 rows x 4 columns]"
      ]
     },
     "execution_count": 26,
     "metadata": {},
     "output_type": "execute_result"
    }
   ],
   "source": [
    "import pandas as pd\n",
    "pretty_list=pd.DataFrame(list, columns=['음원사이트','순위','제목','가수'])\n",
    "pretty_list"
   ]
  },
  {
   "cell_type": "code",
   "execution_count": 28,
   "id": "454bc136",
   "metadata": {},
   "outputs": [],
   "source": [
    "pretty_list.to_excel('melon_top100.xlsx', index=False)"
   ]
  },
  {
   "cell_type": "code",
   "execution_count": null,
   "id": "189421ef",
   "metadata": {},
   "outputs": [],
   "source": []
  },
  {
   "cell_type": "code",
   "execution_count": null,
   "id": "cdcb3876",
   "metadata": {},
   "outputs": [],
   "source": []
  }
 ],
 "metadata": {
  "kernelspec": {
   "display_name": "Python 3 (ipykernel)",
   "language": "python",
   "name": "python3"
  },
  "language_info": {
   "codemirror_mode": {
    "name": "ipython",
    "version": 3
   },
   "file_extension": ".py",
   "mimetype": "text/x-python",
   "name": "python",
   "nbconvert_exporter": "python",
   "pygments_lexer": "ipython3",
   "version": "3.9.7"
  }
 },
 "nbformat": 4,
 "nbformat_minor": 5
}
